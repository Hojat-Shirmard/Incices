{
 "cells": [
  {
   "cell_type": "code",
   "execution_count": 1,
   "metadata": {},
   "outputs": [],
   "source": [
    "import matplotlib.pyplot as plt\n",
    "import numpy as np\n",
    "from matplotlib import cm\n",
    "from skimage import io\n",
    "from skimage import exposure"
   ]
  },
  {
   "cell_type": "code",
   "execution_count": 2,
   "metadata": {},
   "outputs": [],
   "source": [
    "image1 = io.imread('G:/Python_Learning/Python_RS/Image_Copy/Image/Landsat/Blue.tif')\n",
    "image2 = io.imread('G:/Python_Learning/Python_RS/Image_Copy/Image/Landsat/Green.tif')\n",
    "image3 = io.imread('G:/Python_Learning/Python_RS/Image_Copy/Image/Landsat/Red.tif')\n",
    "image4 = io.imread('G:/Python_Learning/Python_RS/Image_Copy/Image/Landsat/NIR.tif')\n",
    "image5 = io.imread('G:/Python_Learning/Python_RS/Image_Copy/Image/Landsat/SWIR1.tif')\n",
    "image6 = io.imread('G:/Python_Learning/Python_RS/Image_Copy/Image/Landsat/SWIR2.tif')"
   ]
  },
  {
   "cell_type": "code",
   "execution_count": 3,
   "metadata": {},
   "outputs": [],
   "source": [
    "B1 = np.array(image1).astype(float)\n",
    "B2 = np.array(image2).astype(float)\n",
    "B3 = np.array(image3).astype(float)\n",
    "B4 = np.array(image4).astype(float)\n",
    "B5 = np.array(image5).astype(float)\n",
    "B6 = np.array(image6).astype(float)"
   ]
  },
  {
   "cell_type": "code",
   "execution_count": 4,
   "metadata": {},
   "outputs": [],
   "source": [
    "blue = (B1-np.min(B1))/(np.max(B1)-np.min(B1))\n",
    "green = (B2-np.min(B2))/(np.max(B2)-np.min(B2))\n",
    "red = (B3-np.min(B3))/(np.max(B3)-np.min(B3))\n",
    "nir = (B4-np.min(B4))/(np.max(B4)-np.min(B4))\n",
    "swir1 = (B5-np.min(B5))/(np.max(B5)-np.min(B5))\n",
    "swir2 = (B6-np.min(B6))/(np.max(B6)-np.min(B6))"
   ]
  },
  {
   "cell_type": "markdown",
   "metadata": {},
   "source": [
    "# INDICES"
   ]
  },
  {
   "cell_type": "code",
   "execution_count": 5,
   "metadata": {},
   "outputs": [],
   "source": [
    "#NDVI\n",
    "NDVI = (nir-red)/(nir+red)"
   ]
  },
  {
   "cell_type": "code",
   "execution_count": null,
   "metadata": {},
   "outputs": [],
   "source": [
    "plt.figure(figsize=(15,10))\n",
    "plt.imshow(NDVI, cmap=cm.Greys)\n",
    "plt.title('NDVI Image')\n",
    "plt.colorbar()\n",
    "plt.axis('off')\n",
    "plt.show()"
   ]
  },
  {
   "cell_type": "code",
   "execution_count": 6,
   "metadata": {},
   "outputs": [],
   "source": [
    "threshold = 0.6"
   ]
  },
  {
   "cell_type": "code",
   "execution_count": 7,
   "metadata": {},
   "outputs": [],
   "source": [
    "veg = NDVI > threshold\n",
    "non_veg = NDVI <= threshold"
   ]
  },
  {
   "cell_type": "code",
   "execution_count": 8,
   "metadata": {},
   "outputs": [],
   "source": [
    "rgb = np.stack([nir, red, green], axis=2)"
   ]
  },
  {
   "cell_type": "code",
   "execution_count": null,
   "metadata": {},
   "outputs": [],
   "source": [
    "fig , ax = plt.subplots(nrows=2, ncols=2, figsize=(15,15))\n",
    "ax[0,0].imshow(rgb)\n",
    "ax[0,0].set_title('RGB Image')\n",
    "ax[0,0].axis('off')\n",
    "######\n",
    "ax[0,1].imshow(NDVI, cmap=cm.Greens)\n",
    "ax[0,1].set_title('NDVI-Image')\n",
    "ax[0,1].axis('off')\n",
    "######\n",
    "ax[1,0].imshow(veg, cmap=cm.Greens)\n",
    "ax[1,0].set_title('Vegetation-Area')\n",
    "ax[1,0].axis('off')\n",
    "######\n",
    "ax[1,1].imshow(non_veg, cmap=cm.Blues)\n",
    "ax[1,1].set_title('Non-Vegetation Index')\n",
    "ax[1,1].axis('off')\n",
    "plt.show()"
   ]
  },
  {
   "cell_type": "code",
   "execution_count": 9,
   "metadata": {},
   "outputs": [],
   "source": [
    "#NDWI\n",
    "NDWI = (green - nir)/(green + nir)"
   ]
  },
  {
   "cell_type": "code",
   "execution_count": null,
   "metadata": {},
   "outputs": [],
   "source": [
    "plt.figure(figsize=(15,10))\n",
    "plt.imshow(NDWI, cmap=cm.gray)\n",
    "plt.title('NDWI Image')\n",
    "plt.colorbar()\n",
    "plt.axis('off')\n",
    "plt.show()"
   ]
  },
  {
   "cell_type": "code",
   "execution_count": 24,
   "metadata": {},
   "outputs": [],
   "source": [
    "#SAVI\n",
    "SAVI = ((nir-red)/(nir+red+0.5))*(1+0.5)"
   ]
  },
  {
   "cell_type": "code",
   "execution_count": null,
   "metadata": {},
   "outputs": [],
   "source": [
    "plt.figure(figsize=(15,10))\n",
    "plt.imshow(SAVI, cmap=cm.gray)\n",
    "plt.title('SAVI-Image')\n",
    "plt.colorbar()\n",
    "plt.axis('off')\n",
    "plt.show()"
   ]
  },
  {
   "cell_type": "code",
   "execution_count": 29,
   "metadata": {},
   "outputs": [],
   "source": [
    "#AFVI\n",
    "AFVI = ((nir-0.66)*(swir1/(nir+(0.66*swir1))))"
   ]
  },
  {
   "cell_type": "code",
   "execution_count": null,
   "metadata": {},
   "outputs": [],
   "source": [
    "plt.figure(figsize=(15,10))\n",
    "plt.imshow(AFVI, cmap=cm.gray)\n",
    "plt.title('AFVI-Image')\n",
    "plt.colorbar()\n",
    "plt.axis('off')\n",
    "plt.show()"
   ]
  },
  {
   "cell_type": "code",
   "execution_count": 10,
   "metadata": {},
   "outputs": [],
   "source": [
    "#UI\n",
    "UI = (swir2 - nir)/(swir2 + nir)"
   ]
  },
  {
   "cell_type": "code",
   "execution_count": null,
   "metadata": {},
   "outputs": [],
   "source": [
    "plt.figure(figsize=(15,10))\n",
    "plt.imshow(UI, cmap=cm.gray)\n",
    "plt.title('Urban Index')\n",
    "plt.colorbar()\n",
    "plt.axis('off')\n",
    "plt.show()"
   ]
  },
  {
   "cell_type": "code",
   "execution_count": null,
   "metadata": {},
   "outputs": [],
   "source": []
  }
 ],
 "metadata": {
  "kernelspec": {
   "display_name": "Python 3",
   "language": "python",
   "name": "python3"
  },
  "language_info": {
   "codemirror_mode": {
    "name": "ipython",
    "version": 3
   },
   "file_extension": ".py",
   "mimetype": "text/x-python",
   "name": "python",
   "nbconvert_exporter": "python",
   "pygments_lexer": "ipython3",
   "version": "3.7.7"
  }
 },
 "nbformat": 4,
 "nbformat_minor": 4
}
